{
 "cells": [
  {
   "cell_type": "code",
   "execution_count": 3,
   "metadata": {},
   "outputs": [
    {
     "name": "stdout",
     "output_type": "stream",
     "text": [
      "Found ZIP file: dataset\\test_for_unzip\\d.zip\n",
      "c:\\Users\\Yichen\\OneDrive\\work\\codes\\nhm_files_explore\\dataset\\test_for_unzip\\d.zip\n",
      "Found ZIP file: dataset\\test_for_unzip\\a\\a_zipped.zip\n",
      "c:\\Users\\Yichen\\OneDrive\\work\\codes\\nhm_files_explore\\dataset\\test_for_unzip\\a\\a_zipped.zip\n",
      "Found ZIP file: dataset\\test_for_unzip\\b\\b\\b.zip\n",
      "c:\\Users\\Yichen\\OneDrive\\work\\codes\\nhm_files_explore\\dataset\\test_for_unzip\\b\\b\\b.zip\n",
      "Found ZIP file: dataset\\test_for_unzip\\c\\c.zip\n",
      "c:\\Users\\Yichen\\OneDrive\\work\\codes\\nhm_files_explore\\dataset\\test_for_unzip\\c\\c.zip\n",
      "Unzipping complete.\n"
     ]
    }
   ],
   "source": [
    "import os\n",
    "import zipfile\n",
    "from pathlib import Path\n",
    "import pandas as pd\n",
    "\n",
    "# Z:\\workspace\\goswami-lab\\Marco_suture\\Morpho_source_specimens\\Euarchontoglires\\Euarchonta (all Morphosource specimens downloaded)\n",
    "\n",
    "# Function to unzip a file into a target directory\n",
    "def unzip_file(zip_path, extract_to):\n",
    "    with zipfile.ZipFile(zip_path, 'r') as zip_ref:\n",
    "        zip_ref.extractall(extract_to)\n",
    "\n",
    "# Initialize a list to store zip file and unzip folder pairs\n",
    "data = []\n",
    "\n",
    "# Starting directory (current directory)\n",
    "start_dir = './dataset/test_for_unzip'\n",
    "\n",
    "# Directory where unzipped content will be placed\n",
    "output_dir = './dataset/unzipped_files'\n",
    "\n",
    "# Walk through all subdirectories and files\n",
    "for root, dirs, files in os.walk(start_dir):\n",
    "    for file in files:\n",
    "        if file.endswith('.zip'):\n",
    "            is_unzip = True\n",
    "            error_message = \"N/A\"\n",
    "            \n",
    "            zip_path = Path(root) / file\n",
    "            print(f'Found ZIP file: {zip_path}')\n",
    "            \n",
    "            print(os.path.abspath(zip_path))\n",
    "            \n",
    "            # Create a directory for unzipped files if it doesn't exist\n",
    "            unzip_dir =  os.path.join(output_dir , Path(file).stem)\n",
    "            os.makedirs(unzip_dir, exist_ok=True)\n",
    "            # os.path.mkdir(unzip_dir , exist_ok=True)\n",
    "            try:\n",
    "                # Unzip the file to unzip_dir\n",
    "                unzip_file(zip_path, unzip_dir)\n",
    "            except Exception as e:\n",
    "                error_message =  str(e)\n",
    "                is_unzip = False\n",
    "            \n",
    "            data.append({\"Zip_File\": zip_path, \"Unzipped_Folder\": unzip_dir,\n",
    "                         \"Success\": is_unzip, \"error_message\":error_message})\n",
    "            ## Go through unzip_dir and find \n",
    "\n",
    "print(\"Unzipping complete.\")\n",
    "\n",
    "\n",
    "df = pd.DataFrame(data)\n",
    "\n",
    "# save the DataFrame of unzip log.\n",
    "output_path = os.path.join(start_dir , \"unzip_log.csv\")\n",
    "df.to_csv(output_path)\n"
   ]
  },
  {
   "cell_type": "code",
   "execution_count": null,
   "metadata": {},
   "outputs": [],
   "source": []
  },
  {
   "cell_type": "code",
   "execution_count": null,
   "metadata": {},
   "outputs": [],
   "source": [
    "### Read the unzip log, and extract info, or unzip more files from the unzipped folders\n",
    "\n",
    "csv_path = os.path.abspath(os.path.join(start_dir , \"unzip_log.csv\"))\n",
    "# print(f\"opening the csv file:{'dataset/'}\")\n",
    "df = pd.read_csv('./dataset/test_for_unzip/unzip_log.csv')\n",
    "\n",
    "folders = df['Unzipped_Folder']\n",
    "dfs = []\n",
    "\n",
    "for folder in folders:\n",
    "    for root, dirs, files in os.walk(folder):\n",
    "        for file in files:\n",
    "            if file.endswith('.csv'):\n",
    "                csv_path = Path(root) / file\n",
    "                print(f'Found csv file: {csv_path}')\n",
    "                df = pd.read_csv(csv_path)\n",
    "                dfs.append(df)\n",
    "all_data = pd.concat(dfs, ignore_index=True)\n",
    "all_data.to_csv(\"dataset/unzipped_files/concat.csv\")              \n"
   ]
  },
  {
   "cell_type": "code",
   "execution_count": null,
   "metadata": {},
   "outputs": [],
   "source": [
    "pd.read_csv(csv_path)"
   ]
  }
 ],
 "metadata": {
  "kernelspec": {
   "display_name": "torch",
   "language": "python",
   "name": "python3"
  },
  "language_info": {
   "codemirror_mode": {
    "name": "ipython",
    "version": 3
   },
   "file_extension": ".py",
   "mimetype": "text/x-python",
   "name": "python",
   "nbconvert_exporter": "python",
   "pygments_lexer": "ipython3",
   "version": "3.9.18"
  }
 },
 "nbformat": 4,
 "nbformat_minor": 2
}
